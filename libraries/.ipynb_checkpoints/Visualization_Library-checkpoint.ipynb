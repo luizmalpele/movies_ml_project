{
 "cells": [
  {
   "cell_type": "markdown",
   "metadata": {},
   "source": [
    "### Notebook info:\n",
    "> **Preprocessing Library** <br/>\n",
    "> *Preprocessing_Library.ipynb* Version 1.0 <br/>\n",
    "> Last updated in: September 15th, 2021; by Luiz Gustavo Fagundes Malpele. <br/>\n",
    "    \n",
    "</div>\n",
    "<br/><hr/>"
   ]
  },
  {
   "cell_type": "markdown",
   "metadata": {},
   "source": [
    "<br/>\n",
    "\n",
    "### Package/library dependencies:\n",
    "\n",
    "- **matplotlib**, for plots and graphs\n",
    "- **numpy**, for float-point ranges\n",
    "- **plotly**, for plotting aesthetics\n",
    "- **pandas**, for reading json files into data frames\n",
    "- **datetime**, for time related operations"
   ]
  },
  {
   "cell_type": "code",
   "execution_count": 1,
   "metadata": {},
   "outputs": [],
   "source": [
    "#import matplotlib.pyplot as plt\n",
    "import numpy as np\n",
    "import pandas as pd\n",
    "import math\n",
    "from datetime import datetime, timedelta\n",
    "import plotly.express as px \n",
    "import plotly.graph_objects as go"
   ]
  },
  {
   "cell_type": "code",
   "execution_count": 2,
   "metadata": {},
   "outputs": [],
   "source": [
    "movies_data_path = '../data/movies_streaming_platforms.csv'\n",
    "movies_cleaned_data_path = '../data/movies_streaming_platforms_cleaned.csv'"
   ]
  },
  {
   "cell_type": "code",
   "execution_count": 3,
   "metadata": {},
   "outputs": [],
   "source": [
    "def read_movies_dataframe(path:str):\n",
    "    '''\n",
    "    Takes the DataFrame paths' as argment and does basic preprocessing to \n",
    "    the movies DataFrame like dropping columns and chaging datatypes.\n",
    "    '''\n",
    "    # Reading Movies' DataFrame\n",
    "    df = pd.read_csv(path, index_col = 'index',\n",
    "                              names = ['index', 'id', 'title', 'year', 'age', 'imdb', \n",
    "                                       'rotten_tomatoes', 'netflix' , 'hulu', 'prime_video', \n",
    "                                       'disney', 'type', 'directors', 'genres', 'country', \n",
    "                                       'language','runtime'], \n",
    "                              skiprows = 1,\n",
    "                              dtype =  {'netflix': bool, 'hulu': bool,\n",
    "                                        'prime_video':bool, 'disney':bool})\n",
    "    \n",
    "    # Dropping Id and Type Columns\n",
    "    df = df.drop(['id', 'type'], axis=1)\n",
    "    return df"
   ]
  },
  {
   "cell_type": "code",
   "execution_count": 4,
   "metadata": {},
   "outputs": [],
   "source": [
    "def fill_nan_values(df:pd.DataFrame):\n",
    "    '''\n",
    "    Fill Null-Value elemens according the columns' necessity. \n",
    "    Categorical columns received 'Other' as an additional category, \n",
    "    while numerical columns received an empty string.\n",
    "    '''\n",
    "    # Fills NaN values with 'Other' \n",
    "    df['genres'] = df['genres'].fillna('Other')\n",
    "    df['language'] = df['language'].fillna('Other')\n",
    "    df['directors'] = df['directors'].fillna('Other')\n",
    "    df['country'] = df['country'].fillna('Other')\n",
    "    df['rotten_tomatoes'] = df['rotten_tomatoes'].fillna('')\n",
    "    df['imdb'] = df['imdb'].fillna('')\n",
    "    return df"
   ]
  },
  {
   "cell_type": "code",
   "execution_count": 32,
   "metadata": {},
   "outputs": [],
   "source": [
    "def get_comma_separated_to_list(df:pd.DataFrame):\n",
    "    '''\n",
    "    Transforms columns by spliting comma separated elements \n",
    "    and transforming into list-based columns.\n",
    "    '''\n",
    "    # Initializing an empty list\n",
    "    df['genres'] = df['genres'].str.split(',', expand = False)\n",
    "    df['language'] = df['language'].str.split(',', expand = False)\n",
    "    df['directors'] = df['directors'].str.split(',', expand = False)\n",
    "    df['country'] = df['country'].str.split(',', expand = False)\n",
    "    return df"
   ]
  },
  {
   "cell_type": "code",
   "execution_count": 43,
   "metadata": {},
   "outputs": [],
   "source": [
    "def get_numeric_scores(df:pd.DataFrame):\n",
    "    '''\n",
    "    Transform string-based scores into float-based scores.\n",
    "    '''\n",
    "    # Erares the number the '/10' or '/100' from string-based columns\n",
    "    for i in range(len(df)):\n",
    "        df.loc[i, 'rotten_tomatoes'] = df['rotten_tomatoes'][i][:-4]\n",
    "        df.loc[i, 'imdb'] = df['imdb'][i][:-3]\n",
    "        \n",
    "    # Changes empty strings back to NaN values \n",
    "    df['imdb'] = df['imdb'].replace('', np.nan, regex=True)\n",
    "    df['rotten_tomatoes'] = df['rotten_tomatoes'].replace('', np.nan, regex=True)\n",
    "    \n",
    "    # Convert string-columns to float data-type\n",
    "    df['imdb'] = df['imdb'].astype(float)\n",
    "    df['rotten_tomatoes'] = df['rotten_tomatoes'].astype(float)\n",
    "    return df"
   ]
  },
  {
   "cell_type": "code",
   "execution_count": 50,
   "metadata": {},
   "outputs": [],
   "source": [
    "def prepare_movies_dataframe(path:str, to_csv:bool = False):\n",
    "    '''\n",
    "    Calls all preprocessing funtions to prepare and cleanse the movies DataFrame.\n",
    "    '''\n",
    "    movies_data = read_movies_dataframe(path = movies_data_path)\n",
    "    movies_data = fill_nan_values(df = movies_data)\n",
    "    movies_data = get_comma_separated_to_list(df = movies_data)\n",
    "    movies_data = get_numeric_scores(df = movies_data)\n",
    "    \n",
    "    #Creates a csv file on the data directory\n",
    "    if to_csv:\n",
    "        movies_data.to_csv('../data/movies_streaming_platforms_cleaned.csv')\n",
    "        \n",
    "    #Returns the cleaned dataframe\n",
    "    return movies_data"
   ]
  },
  {
   "cell_type": "code",
   "execution_count": 72,
   "metadata": {},
   "outputs": [],
   "source": [
    "def read_cleaned_movies_dataframe(path:str = movies_cleaned_data_path):\n",
    "    '''\n",
    "    Takes the cleaned DataFrame paths' as argment and returns the DataFrame\n",
    "    '''\n",
    "    # Reading Movies' DataFrame\n",
    "    movies_data = pd.read_csv(path, index_col = 'index')\n",
    "    \n",
    "    # Get comma separated values to lists\n",
    "    movies_data = get_comma_separated_to_list(movies_data)\n",
    "\n",
    "    return movies_data"
   ]
  },
  {
   "cell_type": "markdown",
   "metadata": {},
   "source": [
    "<br/>\n",
    "\n",
    "### Testing:"
   ]
  },
  {
   "cell_type": "code",
   "execution_count": 68,
   "metadata": {},
   "outputs": [],
   "source": [
    "#Testing Preprocessing Functions\n",
    "movies_data = read_movies_dataframe(movies_data_path)\n",
    "movies_data = fill_nan_values(movies_data)\n",
    "movies_data = get_comma_separated_to_list(movies_data)\n",
    "movies_data = get_numeric_scores(movies_data)\n",
    "movies_data = prepare_movies_dataframe(movies_data)"
   ]
  },
  {
   "cell_type": "code",
   "execution_count": 73,
   "metadata": {},
   "outputs": [],
   "source": [
    "#Testing Cleaned DataFrame\n",
    "movies_data = read_cleaned_movies_dataframe(path = movies_cleaned_data_path)"
   ]
  },
  {
   "cell_type": "code",
   "execution_count": 76,
   "metadata": {},
   "outputs": [
    {
     "data": {
      "text/plain": [
       "'United Kingdom'"
      ]
     },
     "execution_count": 76,
     "metadata": {},
     "output_type": "execute_result"
    }
   ],
   "source": [
    "movies_data['country'][1][2]"
   ]
  }
 ],
 "metadata": {
  "kernelspec": {
   "display_name": "Python 3",
   "language": "python",
   "name": "python3"
  },
  "language_info": {
   "codemirror_mode": {
    "name": "ipython",
    "version": 3
   },
   "file_extension": ".py",
   "mimetype": "text/x-python",
   "name": "python",
   "nbconvert_exporter": "python",
   "pygments_lexer": "ipython3",
   "version": "3.7.9"
  }
 },
 "nbformat": 4,
 "nbformat_minor": 4
}
