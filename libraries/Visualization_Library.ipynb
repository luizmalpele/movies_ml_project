{
 "cells": [
  {
   "cell_type": "markdown",
   "metadata": {},
   "source": [
    "### Notebook info:\n",
    "> **Preprocessing Library** <br/>\n",
    "> *Preprocessing_Library.ipynb* Version 1.0 <br/>\n",
    "> Last updated in: September 15th, 2021; by Luiz Gustavo Fagundes Malpele. <br/>\n",
    "    \n",
    "</div>\n",
    "<br/><hr/>"
   ]
  },
  {
   "cell_type": "markdown",
   "metadata": {},
   "source": [
    "<br/>\n",
    "\n",
    "### Package/library dependencies:\n",
    "\n",
    "- **matplotlib**, for plots and graphs\n",
    "- **numpy**, for float-point ranges\n",
    "- **plotly**, for plotting aesthetics\n",
    "- **pandas**, for reading json files into data frames\n",
    "- **datetime**, for time related operations"
   ]
  },
  {
   "cell_type": "code",
   "execution_count": 1,
   "metadata": {},
   "outputs": [],
   "source": [
    "#import matplotlib.pyplot as plt\n",
    "import numpy as np\n",
    "import pandas as pd\n",
    "import math\n",
    "from datetime import datetime, timedelta\n",
    "import plotly.express as px \n",
    "import plotly.graph_objects as go"
   ]
  },
  {
   "cell_type": "code",
   "execution_count": 2,
   "metadata": {},
   "outputs": [],
   "source": [
    "movies_data_path = '../data/movies_streaming_platforms.csv'\n",
    "movies_cleaned_data_path = '../data/movies_streaming_platforms_cleaned.csv'"
   ]
  },
  {
   "cell_type": "code",
   "execution_count": 3,
   "metadata": {},
   "outputs": [],
   "source": [
    "def get_color_palette():\n",
    "    '''\n",
    "    Standard color palette used for visualization and UI\n",
    "    '''\n",
    "    #Standard Color Palette\n",
    "    color_light_blue = '#0194ED'\n",
    "    color_dark_blue = '#294D6E'\n",
    "    color_red = '#FF494E'\n",
    "    color_gray = '#F0F9FF'\n",
    "    return color_light_blue, color_dark_blue, color_red, color_gray"
   ]
  },
  {
   "cell_type": "code",
   "execution_count": 4,
   "metadata": {},
   "outputs": [],
   "source": [
    "def get_color_platforms_palette():\n",
    "    '''\n",
    "    Standard color palette used for platforms-related visualization and UI\n",
    "    '''\n",
    "    #Standard Color Palette\n",
    "    color_netflix = '#E50914'\n",
    "    color_hulu = '#3DBB3D'\n",
    "    color_prime_video = '#00A8E1'\n",
    "    color_disney = '#332765'\n",
    "    return color_netflix, color_hulu, color_prime_video, color_disney"
   ]
  },
  {
   "cell_type": "markdown",
   "metadata": {},
   "source": [
    "<br/>\n",
    "\n",
    "### Testing:"
   ]
  },
  {
   "cell_type": "code",
   "execution_count": 5,
   "metadata": {},
   "outputs": [
    {
     "ename": "NameError",
     "evalue": "name 'read_movies_dataframe' is not defined",
     "output_type": "error",
     "traceback": [
      "\u001b[1;31m---------------------------------------------------------------------------\u001b[0m",
      "\u001b[1;31mNameError\u001b[0m                                 Traceback (most recent call last)",
      "\u001b[1;32m<ipython-input-5-4acf424b724a>\u001b[0m in \u001b[0;36m<module>\u001b[1;34m\u001b[0m\n\u001b[0;32m      1\u001b[0m \u001b[1;31m#Testing Preprocessing Functions\u001b[0m\u001b[1;33m\u001b[0m\u001b[1;33m\u001b[0m\u001b[1;33m\u001b[0m\u001b[0m\n\u001b[1;32m----> 2\u001b[1;33m \u001b[0mmovies_data\u001b[0m \u001b[1;33m=\u001b[0m \u001b[0mread_movies_dataframe\u001b[0m\u001b[1;33m(\u001b[0m\u001b[0mmovies_data_path\u001b[0m\u001b[1;33m)\u001b[0m\u001b[1;33m\u001b[0m\u001b[1;33m\u001b[0m\u001b[0m\n\u001b[0m\u001b[0;32m      3\u001b[0m \u001b[0mmovies_data\u001b[0m \u001b[1;33m=\u001b[0m \u001b[0mfill_nan_values\u001b[0m\u001b[1;33m(\u001b[0m\u001b[0mmovies_data\u001b[0m\u001b[1;33m)\u001b[0m\u001b[1;33m\u001b[0m\u001b[1;33m\u001b[0m\u001b[0m\n\u001b[0;32m      4\u001b[0m \u001b[0mmovies_data\u001b[0m \u001b[1;33m=\u001b[0m \u001b[0mget_comma_separated_to_list\u001b[0m\u001b[1;33m(\u001b[0m\u001b[0mmovies_data\u001b[0m\u001b[1;33m)\u001b[0m\u001b[1;33m\u001b[0m\u001b[1;33m\u001b[0m\u001b[0m\n\u001b[0;32m      5\u001b[0m \u001b[0mmovies_data\u001b[0m \u001b[1;33m=\u001b[0m \u001b[0mget_numeric_scores\u001b[0m\u001b[1;33m(\u001b[0m\u001b[0mmovies_data\u001b[0m\u001b[1;33m)\u001b[0m\u001b[1;33m\u001b[0m\u001b[1;33m\u001b[0m\u001b[0m\n",
      "\u001b[1;31mNameError\u001b[0m: name 'read_movies_dataframe' is not defined"
     ]
    }
   ],
   "source": [
    "#Testing Preprocessing Functions\n",
    "movies_data = read_movies_dataframe(movies_data_path)\n",
    "movies_data = fill_nan_values(movies_data)\n",
    "movies_data = get_comma_separated_to_list(movies_data)\n",
    "movies_data = get_numeric_scores(movies_data)\n",
    "movies_data = prepare_movies_dataframe(movies_data)"
   ]
  },
  {
   "cell_type": "code",
   "execution_count": null,
   "metadata": {},
   "outputs": [],
   "source": [
    "#Testing Cleaned DataFrame\n",
    "movies_data = read_cleaned_movies_dataframe(path = movies_cleaned_data_path)"
   ]
  },
  {
   "cell_type": "code",
   "execution_count": null,
   "metadata": {},
   "outputs": [],
   "source": [
    "movies_data['country'][1][2]"
   ]
  }
 ],
 "metadata": {
  "kernelspec": {
   "display_name": "Python 3",
   "language": "python",
   "name": "python3"
  },
  "language_info": {
   "codemirror_mode": {
    "name": "ipython",
    "version": 3
   },
   "file_extension": ".py",
   "mimetype": "text/x-python",
   "name": "python",
   "nbconvert_exporter": "python",
   "pygments_lexer": "ipython3",
   "version": "3.7.9"
  }
 },
 "nbformat": 4,
 "nbformat_minor": 4
}
