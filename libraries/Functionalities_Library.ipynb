{
 "cells": [
  {
   "cell_type": "markdown",
   "metadata": {},
   "source": [
    "### Notebook info:\n",
    "> **Preprocessing Library** <br/>\n",
    "> *Functionalities_Library.ipynb* Version 1.0 <br/>\n",
    "> Last updated in: September 15th, 2021; by Luiz Gustavo Fagundes Malpele. <br/>\n",
    "    \n",
    "</div>\n",
    "<br/><hr/>"
   ]
  },
  {
   "cell_type": "markdown",
   "metadata": {},
   "source": [
    "<br/>\n",
    "\n",
    "### Package/library dependencies:\n",
    "\n",
    "- **matplotlib**, for plots and graphs\n",
    "- **numpy**, for float-point ranges\n",
    "- **plotly**, for plotting aesthetics\n",
    "- **pandas**, for reading json files into data frames\n",
    "- **datetime**, for time related operations"
   ]
  },
  {
   "cell_type": "code",
   "execution_count": 3,
   "metadata": {},
   "outputs": [],
   "source": [
    "#import matplotlib.pyplot as plt\n",
    "import numpy as np\n",
    "import pandas as pd\n",
    "import math\n",
    "from datetime import datetime, timedelta\n",
    "import plotly.express as px \n",
    "import plotly.graph_objects as go"
   ]
  },
  {
   "cell_type": "code",
   "execution_count": 4,
   "metadata": {},
   "outputs": [],
   "source": [
    "movies_data_path = '../data/movies_streaming_platforms.csv'\n",
    "movies_cleaned_data_path = '../data/movies_streaming_platforms_cleaned.csv'"
   ]
  },
  {
   "cell_type": "code",
   "execution_count": 2,
   "metadata": {},
   "outputs": [
    {
     "ename": "NameError",
     "evalue": "name 'pd' is not defined",
     "output_type": "error",
     "traceback": [
      "\u001b[1;31m---------------------------------------------------------------------------\u001b[0m",
      "\u001b[1;31mNameError\u001b[0m                                 Traceback (most recent call last)",
      "\u001b[1;32m<ipython-input-2-3b08609983d6>\u001b[0m in \u001b[0;36m<module>\u001b[1;34m\u001b[0m\n\u001b[0;32m      1\u001b[0m def filter_by_platforms(df:pd.DataFrame, platforms_list:list,hulu_display:bool = None, netflix_display:bool = None, \n\u001b[1;32m----> 2\u001b[1;33m                         prime_video_display:bool = None, disney_display:bool = None, display_all:bool = None):\n\u001b[0m\u001b[0;32m      3\u001b[0m     '''\n\u001b[0;32m      4\u001b[0m     \u001b[0mFiltering\u001b[0m \u001b[0mplatform\u001b[0m \u001b[0mfunctio\u001b[0m \u001b[1;33m-\u001b[0m \u001b[0mTakes\u001b[0m \u001b[0muser\u001b[0m \u001b[0minput\u001b[0m \u001b[0mto\u001b[0m \u001b[0mwhich\u001b[0m \u001b[0mplatform\u001b[0m \u001b[0mto\u001b[0m \u001b[0mfilter\u001b[0m \u001b[1;32mor\u001b[0m \u001b[0mdisplays\u001b[0m \u001b[0meverything\u001b[0m\u001b[1;33m\u001b[0m\u001b[1;33m\u001b[0m\u001b[0m\n\u001b[0;32m      5\u001b[0m     '''\n",
      "\u001b[1;31mNameError\u001b[0m: name 'pd' is not defined"
     ]
    }
   ],
   "source": [
    "def filter_by_platforms(df:pd.DataFrame, platforms_list:list,hulu_display:bool = None, netflix_display:bool = None, \n",
    "                        prime_video_display:bool = None, disney_display:bool = None, display_all:bool = None):\n",
    "    '''\n",
    "    Filtering platform functio - Takes user input to which platform to filter or displays everything\n",
    "    '''\n",
    "    \n",
    "    for platform in platforms_list:\n",
    "        if platform == 'Hulu':\n",
    "            hulu_display = True\n",
    "        elif platform == 'Prime':\n",
    "            prime_display = True\n",
    "        elif platform == 'Disney+':\n",
    "            disney_display = True\n",
    "        elif platform == 'Netflix':\n",
    "            netflix_display = True\n",
    "        else:\n",
    "            display_all = True\n",
    "    \n",
    "    #Display All Platforms Condition\n",
    "    if display_all == True:\n",
    "        hulu_display = True \n",
    "        netflix_display = True \n",
    "        prime_video_display = True\n",
    "        disney_display = True\n",
    "        \n",
    "    #Filters Platforms by User input condition\n",
    "    df = df[(df['hulu'] == hulu_display) | \n",
    "            (df['netflix'] == netflix_display) | \n",
    "            (df['prime_video'] == prime_video_display) | \n",
    "            (df['disney'] == disney_display)]\n",
    "    \n",
    "    return df"
   ]
  },
  {
   "cell_type": "code",
   "execution_count": 6,
   "metadata": {},
   "outputs": [],
   "source": [
    "def filter_by_age(df:pd.DataFrame, display_7:bool = None, display_13:bool = None, \n",
    "                        display_16:bool = None, display_18:bool = None, display_pg:bool = None):\n",
    "    '''\n",
    "    Filtering by Age limit function - Takes user input to which PG Rating the user can watch\n",
    "    '''\n",
    "        \n",
    "    #Filters Platforms by User input condition\n",
    "    df = df[(df['7+'] == display_7) | \n",
    "            (df['13+'] == display_13) | \n",
    "            (df['16+'] == display_16) | \n",
    "            (df['18+'] == display_18) |\n",
    "            (df['all'] == display_pg)]\n",
    "    \n",
    "    return df"
   ]
  }
 ],
 "metadata": {
  "kernelspec": {
   "display_name": "Python 3",
   "language": "python",
   "name": "python3"
  },
  "language_info": {
   "codemirror_mode": {
    "name": "ipython",
    "version": 3
   },
   "file_extension": ".py",
   "mimetype": "text/x-python",
   "name": "python",
   "nbconvert_exporter": "python",
   "pygments_lexer": "ipython3",
   "version": "3.7.9"
  }
 },
 "nbformat": 4,
 "nbformat_minor": 4
}
